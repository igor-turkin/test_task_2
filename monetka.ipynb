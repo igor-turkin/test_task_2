{
 "cells": [
  {
   "cell_type": "markdown",
   "id": "7325e634",
   "metadata": {},
   "source": [
    "## Метод 1 ##"
   ]
  },
  {
   "cell_type": "code",
   "execution_count": 29,
   "id": "ac0c128c",
   "metadata": {},
   "outputs": [
    {
     "name": "stdout",
     "output_type": "stream",
     "text": [
      "Введите количество бросков n = 20\n",
      "Количество итераций: 1048576\n",
      "Выигрыш А 0.468, ничья 0.128, выигрыш Б 0.405\n"
     ]
    }
   ],
   "source": [
    "#ввод количества бросков\n",
    "n = int(input('Введите количество бросков n = '))\n",
    "\n",
    "# количество возможных последовательностей\n",
    "total_sequences = 2 ** n\n",
    "print(f\"Количество итераций: {total_sequences}\")\n",
    "\n",
    "# счетчики очков\n",
    "wins_A = 0\n",
    "wins_B = 0\n",
    "draws = 0\n",
    "\n",
    "# цикл перебора комбинаций\n",
    "for i in range(total_sequences):\n",
    "    #создаем пустой список для последовательности\n",
    "    seq = '' \n",
    "    # счетчик перебора вариантов монетки\n",
    "    for j in range(n):\n",
    "        if (i >> j) & 1:  # проверяем, установлен ли бит\n",
    "            seq += 'Р'\n",
    "        else:\n",
    "            seq += 'О'\n",
    "\n",
    "    X = 0  # счетчик выигрыша игрока A\n",
    "    Y = 0  # счетчик выигрыша игрока Б\n",
    "    # счетчик начисления баллов\n",
    "    for k in range(1, n):\n",
    "        pair = seq[k - 1] + seq[k]\n",
    "        if pair == 'ОР':\n",
    "            X += 1\n",
    "        elif pair == 'ОО':\n",
    "            Y += 1\n",
    "    # проверка на выигрыш\n",
    "    if X > Y:\n",
    "        wins_A += 1\n",
    "    elif Y > X:\n",
    "        wins_B += 1\n",
    "    else:\n",
    "        draws += 1\n",
    "\n",
    "# выводим результаты\n",
    "print(f\"Выигрыш А {wins_A / total_sequences:.3g}, ничья {draws / total_sequences:.3g}, выигрыш Б {wins_B / total_sequences:.3g}\")\n"
   ]
  },
  {
   "cell_type": "markdown",
   "id": "247a28a1",
   "metadata": {},
   "source": [
    "## Метод 2 ##"
   ]
  },
  {
   "cell_type": "code",
   "execution_count": 30,
   "id": "a71b9ef0",
   "metadata": {},
   "outputs": [
    {
     "name": "stdout",
     "output_type": "stream",
     "text": [
      "Введите количество бросков n = 20\n",
      "Количество итераций: 1034\n",
      "Выигрыш А0.468, ничья 0.128, выигрыш Б 0.405\n"
     ]
    }
   ],
   "source": [
    "n = int(input('Введите количество бросков n = '))\n",
    "\n",
    "# счетчик бросков\n",
    "dp = [{} for _ in range(n + 1)]\n",
    "dp[0][(None, 0)] = 1\n",
    "\n",
    "# счётчик итераций\n",
    "iterations = 0  \n",
    "\n",
    "# счетчик полседовательности\n",
    "for i in range(n):\n",
    "    for (prev, diff), count in dp[i].items():\n",
    "        for curr in ['О', 'Р']:\n",
    "            new_diff = diff\n",
    "            if prev == 'О' and curr == 'Р':\n",
    "                new_diff += 1\n",
    "            elif prev == 'О' and curr == 'О':\n",
    "                new_diff -= 1\n",
    "\n",
    "            key = (curr, new_diff)\n",
    "            if key in dp[i + 1]:\n",
    "                dp[i + 1][key] += count\n",
    "            else:\n",
    "                dp[i + 1][key] = count\n",
    "\n",
    "            iterations += 1  \n",
    "\n",
    "# счетчики очков\n",
    "win_A = 0\n",
    "win_B = 0\n",
    "draw = 0\n",
    "\n",
    "# начисление баллов и проверка выигрыша\n",
    "for (prev, diff), count in dp[n].items():\n",
    "    if diff > 0:\n",
    "        win_A += count\n",
    "    elif diff < 0:\n",
    "        win_B += count\n",
    "    else:\n",
    "        draw += count\n",
    "\n",
    "# выводим результаты \n",
    "print(f\"Количество итераций: {iterations}\")\n",
    "print(f\"Выигрыш А {win_A / total:.3f}, ничья {draw / total:.3f}, выигрыш Б {win_B / total:.3f}\")\n",
    "\n"
   ]
  }
 ],
 "metadata": {
  "kernelspec": {
   "display_name": "Python 3 (ipykernel)",
   "language": "python",
   "name": "python3"
  },
  "language_info": {
   "codemirror_mode": {
    "name": "ipython",
    "version": 3
   },
   "file_extension": ".py",
   "mimetype": "text/x-python",
   "name": "python",
   "nbconvert_exporter": "python",
   "pygments_lexer": "ipython3",
   "version": "3.7.9"
  }
 },
 "nbformat": 4,
 "nbformat_minor": 5
}
